{
 "cells": [
  {
   "cell_type": "code",
   "execution_count": 1,
   "metadata": {},
   "outputs": [
    {
     "name": "stdout",
     "output_type": "stream",
     "text": [
      "Sorted array is:\n",
      "11\n",
      "12\n",
      "22\n",
      "25\n",
      "34\n",
      "64\n",
      "90\n"
     ]
    }
   ],
   "source": [
    "# Python program for implementation of Bubble Sort \n",
    "#using defined input \n",
    "def bubbleSort(arr): \n",
    "    n = len(arr)  \n",
    "    for i in range(n-1): \n",
    "        for j in range(0, n-i-1): \n",
    "            if arr[j] > arr[j+1] : \n",
    "                arr[j], arr[j+1] = arr[j+1], arr[j] \n",
    "  \n",
    "# Driver code to test above \n",
    "arr = [64, 34, 25, 12, 22, 11, 90] \n",
    "bubbleSort(arr) \n",
    "print (\"Sorted array is:\") \n",
    "for i in range(len(arr)): \n",
    "    print (\"%d\" %arr[i]),  "
   ]
  },
  {
   "cell_type": "code",
   "execution_count": 3,
   "metadata": {},
   "outputs": [
    {
     "name": "stdout",
     "output_type": "stream",
     "text": [
      "2 5 4 7 6 1\n",
      "Sorted array is:\n",
      "1 2 4 5 6 7 "
     ]
    }
   ],
   "source": [
    "# Python program for implementation of Bubble Sort \n",
    "# using user defined input \n",
    "def bubbleSort(arr): \n",
    "    n = len(arr)  \n",
    "    for i in range(n-1): \n",
    "        for j in range(0, n-i-1): \n",
    "            if arr[j] > arr[j+1] : \n",
    "                arr[j], arr[j+1] = arr[j+1], arr[j] \n",
    "  \n",
    "# Driver code to test above \n",
    "arr=list(map(int,input().split())) \n",
    "bubbleSort(arr) \n",
    "print (\"Sorted array is:\") \n",
    "for i in range(len(arr)): \n",
    "    print (\"%d\" %arr[i],end=\" \"),  "
   ]
  },
  {
   "cell_type": "code",
   "execution_count": null,
   "metadata": {},
   "outputs": [],
   "source": []
  }
 ],
 "metadata": {
  "kernelspec": {
   "display_name": "Python 3",
   "language": "python",
   "name": "python3"
  },
  "language_info": {
   "codemirror_mode": {
    "name": "ipython",
    "version": 3
   },
   "file_extension": ".py",
   "mimetype": "text/x-python",
   "name": "python",
   "nbconvert_exporter": "python",
   "pygments_lexer": "ipython3",
   "version": "3.7.6"
  }
 },
 "nbformat": 4,
 "nbformat_minor": 4
}
