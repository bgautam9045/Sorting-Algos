{
 "cells": [
  {
   "cell_type": "code",
   "execution_count": 2,
   "metadata": {},
   "outputs": [
    {
     "name": "stdout",
     "output_type": "stream",
     "text": [
      "Sorted array\n",
      "11\n",
      "12\n",
      "22\n",
      "25\n",
      "64\n"
     ]
    }
   ],
   "source": [
    "# Python program for implementation of Selection Sort\n",
    "#using defined input\n",
    "#import sys \n",
    "A = [64, 25, 12, 22, 11] \n",
    "for i in range(len(A)): \n",
    "    min= i \n",
    "    for j in range(i+1, len(A)): \n",
    "        if A[min] > A[j]: \n",
    "            min= j \n",
    "              \n",
    "    # Swap the found minimum element with  \n",
    "    # the first element         \n",
    "    A[i], A[min] = A[min], A[i] \n",
    "  \n",
    "# Driver code to test above \n",
    "\n",
    "print (\"Sorted array\") \n",
    "for i in range(len(A)): \n",
    "    print(\"%d\" %A[i]),  "
   ]
  },
  {
   "cell_type": "code",
   "execution_count": 4,
   "metadata": {},
   "outputs": [
    {
     "name": "stdout",
     "output_type": "stream",
     "text": [
      "3 6 5 4 1 7\n",
      "Sorted array\n",
      "1 3 4 5 6 7 "
     ]
    }
   ],
   "source": [
    "# Python program for implementation of Selection Sort\n",
    "#using user defined input\n",
    "#import sys \n",
    "A = list(map(int,input().split()))\n",
    "for i in range(len(A)): \n",
    "    min= i \n",
    "    for j in range(i+1, len(A)): \n",
    "        if A[min] > A[j]: \n",
    "            min= j \n",
    "              \n",
    "    # Swap the found minimum element with  \n",
    "    # the first element         \n",
    "    A[i], A[min] = A[min], A[i] \n",
    "  \n",
    "# Driver code to test above \n",
    "\n",
    "print (\"Sorted array\") \n",
    "for i in range(len(A)): \n",
    "    print(\"%d\" %A[i],end=\" \"), "
   ]
  },
  {
   "cell_type": "code",
   "execution_count": null,
   "metadata": {},
   "outputs": [],
   "source": []
  }
 ],
 "metadata": {
  "kernelspec": {
   "display_name": "Python 3",
   "language": "python",
   "name": "python3"
  },
  "language_info": {
   "codemirror_mode": {
    "name": "ipython",
    "version": 3
   },
   "file_extension": ".py",
   "mimetype": "text/x-python",
   "name": "python",
   "nbconvert_exporter": "python",
   "pygments_lexer": "ipython3",
   "version": "3.7.6"
  }
 },
 "nbformat": 4,
 "nbformat_minor": 4
}
